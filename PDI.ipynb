{
  "nbformat": 4,
  "nbformat_minor": 0,
  "metadata": {
    "colab": {
      "name": "Lab3.ipynb",
      "provenance": [],
      "collapsed_sections": [],
      "authorship_tag": "ABX9TyNC9GWi87kryivig4v6ekMr",
      "include_colab_link": true
    },
    "kernelspec": {
      "name": "python3",
      "display_name": "Python 3"
    }
  },
  "cells": [
    {
      "cell_type": "markdown",
      "metadata": {
        "id": "view-in-github",
        "colab_type": "text"
      },
      "source": [
        "<a href=\"https://colab.research.google.com/github/LosanChar/Procesamiento-de-Imagenes/blob/main/PDI.ipynb\" target=\"_parent\"><img src=\"https://colab.research.google.com/assets/colab-badge.svg\" alt=\"Open In Colab\"/></a>"
      ]
    },
    {
      "cell_type": "markdown",
      "metadata": {
        "id": "ktol34PCeH57"
      },
      "source": [
        "#**Medición de color a traves de dispositivos Móviles usando Colab**\n",
        "\n",
        "\n"
      ]
    },
    {
      "cell_type": "markdown",
      "metadata": {
        "id": "2PBiwlyujIVl"
      },
      "source": [
        "# *Abstract*\n",
        "\n",
        "1.- Estado del problema\n",
        "El problema de saber que color es un color especifico, se vuelve subjetivo cuando lo trasponemos a la opinion de otro ser humano, pues bajo las experiencias y vivencias de cada persona, un color puede ser interpretado como otro. Es decir, para alguien el color azul cielo puede ser un azul mas claro o mas oscuro. En la actualidad donde requerimos de precisión en cuanto a lo que se estudia, se requiere muchas veces analizar de que tonalidades del entorno estamos ocupando. Por ello, en la edad media se llevo a cabo un estudio por el color de forma muy distinta. De tal forma que asentó las bases para la elaboración de un colorímetro."
      ]
    },
    {
      "cell_type": "markdown",
      "metadata": {
        "id": "QC8CYtzEfLsm"
      },
      "source": [
        "# Introduccion\n",
        "\n",
        "En la vida diaria, estamos rodeados por la naturaleza y por objetos que tienen colores bien conocidos. Sin embargo, existen diferencias de observación que pueden definir el mismo color de manera diferente, ya que la percepción visual\n",
        "de cada persona varía de acuerdo a su conocimiento, criterio, sensibilidad o experiencia, por lo que para una persona el color del cielo puede ser “azul cielo”; para otra es “azul claro”; aquí ya se está agregando un atributo más al color, por lo que la expresión verbal de los colores es subjetiva y compleja, ya que también hay factores que intervienen en la apariencia de éstos, como son: la fuente de luz, el observador, el tamaño, el fondo, el ángulo de observación, entre otros. \n",
        "\n",
        "Un gran adelanto fue el colorímetro de Duboscq, quien desarrolló un instrumento para medir, variando la altura de las muestras, su relación entre la patrón y la desconocida. La luz necesaria era proporcionada por el sol mediante un espejo, como los primeros microscopios. Varios instrumentos se desarrollaron según ese principio, desde simples comparadores ópticos hasta complejos instrumentos de medición.\n",
        "\n",
        "Con el advenimiento de la electrónica, se fue mejorando la implementación instrumental y se añadieron fotocélulas para reemplazar al ojo humano. De allí el agregado de \"foto\" y el término devino en fotocolorímetro. Eso facilitó los análisis químicos y dio nacimiento a los actuales instrumentos, tanto los manuales como los grandes autoanalizadores químicos que con complejos mecanismos electrónicos y mecánicos realizan toda la tarea del químico operador.\n",
        "\n",
        "La contribuciones de este documento son los resultados, que nos brinda la precisión de la computación, los cuales obtenemos a traves del uso de herramientas de fácil acceso, tales como Colab de Google, lenguaje Python y Javascript. De tal forma que los resultados obtenidos a traves de las pruebas que se detallan en este documento, se pueden llegar a obtener dichos resultados en cualquier lugar.\n",
        "\n",
        "\n",
        "\n",
        "![Figura 1](https://drive.google.com/uc?id=1poe8tPaJhWqQEeOqEB_DewCBMrro5qe8)\n",
        "\n",
        "*Figura 1. Coordenadas cromáticas de todos los colores medidos para cuatro escenas de prueba. Los círculos corresponden a las mediciones del fotopectrómetro y los cruces a los resultados de calibración para Canon 550D. La calibración para otras cámaras produjo resultados similares. La línea continua indica la gama de colores sRGB y la línea discontinua la gama Adobe RGB.*\n",
        "\n"
      ]
    },
    {
      "cell_type": "markdown",
      "metadata": {
        "id": "SqhjW0SafwH3"
      },
      "source": [
        "#Diseño\n",
        "\n",
        "La sección de diseño presenta el diseño de su sistema y puede incluir un párrafo sobre detalles de implementación.\n",
        "\n",
        "Usando la herramienta de entorno de programación de Colab se realizaron cuatro importantes bloques. Donde el primero será la declaración de las bibliotecas para ocupar; la segunda ocupará las líneas de código en javascript que nos ayudará a que el entorno active la cámara del dispositivo y capture una imágen, la cual será la que ocuparemos para las mediciones de color;  "
      ]
    },
    {
      "cell_type": "markdown",
      "metadata": {
        "id": "KM2Cl2DaINUX"
      },
      "source": [
        "Aqui el primer bloque, como ya se menciono, declara nuestras bibliotecas a ocupar. \n",
        "Una de las más importantes es la importación de Javascript, esta biblioteca que nos permite ejecutar código de javascript dentro de un entorno de trabajo de python. \n",
        "De igual forma en cuanto a importancia, colour-science es un paquete de Python de código abierto que proporciona una gran cantidad de algoritmos y conjuntos de datos para la ciencia del color."
      ]
    },
    {
      "cell_type": "code",
      "metadata": {
        "id": "P7uNC2NTHxpc"
      },
      "source": [
        "!pip install --upgrade --quiet colour-science\n",
        "from IPython.display import display, Javascript, Image\n",
        "from google.colab.output import eval_js\n",
        "from base64 import b64decode\n",
        "import numpy as np\n",
        "import io\n",
        "import PIL\n",
        "import matplotlib.pyplot as plt\n",
        "import colour"
      ],
      "execution_count": null,
      "outputs": []
    },
    {
      "cell_type": "markdown",
      "metadata": {
        "id": "lDAeAzypH0fI"
      },
      "source": [
        "En el bloque que encontramos a continuación, se hace uso de líneas de código en javascript dentro de lo que se ha declara como python. \n",
        "Una de las líneas que podemos resaltar es la de \"constrait\"\n",
        "\n",
        "var constraints = {video: {facingMode: \"environment\"}} \n",
        "\n",
        "const stream = await navigator.mediaDevices.getUserMedia(constraints); \n",
        "\n",
        "pues aquí es donde se especifica el uso de la camara, ya sera la frontal o la trasera. Nosotros hemos declarado por default el uso de la camara trasera para un dispositivo móvil como telefonos inteligentes.\n"
      ]
    },
    {
      "cell_type": "code",
      "metadata": {
        "id": "VhofKxU_absU"
      },
      "source": [
        "#funcion para encender camara y tomar foto\n",
        "def take_photo(filename='photo.jpg', quality=0.8):\n",
        "  #se hace un llamado a una funcion que trabaja con lineas de javascript\n",
        "  js = Javascript('''\n",
        "    //variablesglobales\n",
        "    var x=320; \n",
        "    var y=240;\n",
        "    async function takePhoto(quality) { \n",
        "      const div = document.createElement('div'); \n",
        "      window.addEventListener('onmousedown',function(evt){ \n",
        "        x=evt.clientX; \n",
        "        y=evt.clientY;\n",
        "      },false);\n",
        "      const video = document.createElement('video'); \n",
        "      video.style.display = 'block' \n",
        "      //variable para cambio de camara en dispositivo\n",
        "      var constraints = {video: {facingMode: \"environment\"}} \n",
        "      const stream = await navigator.mediaDevices.getUserMedia(constraints);   \n",
        "      document.body.appendChild(div);\n",
        "      div.appendChild(video);\n",
        "      video.srcObject = stream;\n",
        "    \n",
        "      await video.play();\n",
        "\n",
        "      // Resize the output to fit the video element.\n",
        "      \n",
        "      google.colab.output.setIframeHeight(document.documentElement.scrollHeight, true);\n",
        "\n",
        "      // Wait for Capture to be clicked.\n",
        "      await new Promise((resolve) => video.onclick = resolve);\n",
        "\n",
        "      const canvas = document.createElement('canvas');\n",
        "      canvas.width = 100 //video.videoWidth;\n",
        "      canvas.height = 100 //video.videoHeight;\n",
        "      ctx = canvas.getContext('2d');\n",
        "      ctx.strokeStyle = \"red\";\n",
        "      ctx.strokeRect(x-20,y-20,40,40);\n",
        "      ctx.drawImage(video, x-5, y-5,100,100,0,0,200,200);\n",
        "      stream.getVideoTracks()[0].stop();\n",
        "      div.remove();\n",
        "      return canvas.toDataURL('image/jpeg', quality);\n",
        "    \n",
        "    }\n",
        "    ''')\n",
        "  display(js)\n",
        "  data = eval_js('takePhoto({})'.format(quality))\n",
        "  binary = b64decode(data.split(',')[1])\n",
        "  with open(filename, 'wb') as f:\n",
        "    f.write(binary)\n",
        "  return filename\n"
      ],
      "execution_count": null,
      "outputs": []
    },
    {
      "cell_type": "markdown",
      "metadata": {
        "id": "cxDRHT2Qi2-s"
      },
      "source": [
        "Particularmente en estas lineas de codigo se encuentra la selección del recuadro a analizar."
      ]
    },
    {
      "cell_type": "code",
      "metadata": {
        "id": "7kbvnCKZi3MM"
      },
      "source": [
        "const canvas = document.createElement('canvas');\n",
        "      canvas.width = 100 //video.videoWidth;\n",
        "      canvas.height = 100 //video.videoHeight;\n",
        "      ctx = canvas.getContext('2d');\n",
        "      ctx.strokeStyle = \"red\";\n",
        "      ctx.strokeRect(x-20,y-20,40,40);\n",
        "      ctx.drawImage(video, x-5, y-5,100,100,0,0,200,200);\n",
        "      stream.getVideoTracks()[0].stop();\n",
        "      div.remove();\n",
        "      return canvas.toDataURL('image/jpeg', quality);"
      ],
      "execution_count": null,
      "outputs": []
    },
    {
      "cell_type": "markdown",
      "metadata": {
        "id": "rqSMxktWH6oW"
      },
      "source": [
        "Para el siguiente bloque de código, se requirio que previamente se tuvieran los datos de los colores, y se acomodaron por orden de color RGB y en un plano XYZ, el cual nos sirvio para poder hacer una gráfica de gamut, como la que vimos al inicio de este documento. \n",
        "\n",
        "En este caso solamente los anotamos de forma manual para posteriormente usarse sobre el cuadro de la imágen seleccionada."
      ]
    },
    {
      "cell_type": "code",
      "metadata": {
        "id": "rYCEZkXiH6T4"
      },
      "source": [
        "import cv2\n",
        "import numpy as np\n",
        "#cargamos los datos de xyz y rgb, datos tomados del documento de google sheets\n",
        "xyz= [[126,89,61],[214,148,108],[110,122,140],[96,117,52],[148,131,157],[122,193,146],[243,136,26],[94,89,155],\n",
        "[218,93,88],[101,62,98],[170,204,31],[240,182,0],[66,62,135],[79,165,55],[191,68,48],[250,219,0],[206,85,138],\n",
        "[57,133,147],[255,254,215],[225,210,181],[181,171,147],[136,127,108],[96,90,77],[59,55,47]]\n",
        "\n",
        "rgb=[[95,\t48,\t32],[251,\t154,\t137],[52,\t87,\t168],[40,\t75,\t19],[115,\t94,\t195],[29,\t201,\t189],[252,\t120,\t11],[39,\t26,\t193],[251,\t55,\t75],\n",
        "[56,\t12,\t75],[136,\t220,\t10],[253,\t169,\t9],[13,\t0,\t152],[19,\t153,\t32],[213,\t30,\t24],[255,\t238,\t10],[241,\t43,\t156],[11,\t96,\t186],\n",
        "[254,\t254,\t254],[233,\t232,\t238],[175,\t173,\t186],[43,\t41,\t52],[40,\t39,\t47],[11,\t10,\t15]]\n",
        "###############################\n",
        "img = cv2.imread('photo.jpg',cv2.IMREAD_UNCHANGED)"
      ],
      "execution_count": null,
      "outputs": []
    },
    {
      "cell_type": "markdown",
      "metadata": {
        "id": "4TiIejBdj1he"
      },
      "source": [
        "Y por último, el siguiente bloque de código. Realiza las operaciones necesarias para abrir un archivo en Google Sheets y escribir en este los resultados de la medición de color del cuadro de la imágen."
      ]
    },
    {
      "cell_type": "code",
      "metadata": {
        "id": "LmxcSd0Pj2Fn"
      },
      "source": [
        "pip install --upgrade --quiet gspread\n",
        "from google.colab import auth\n",
        "auth.authenticate_user()\n",
        "import time\n",
        "import gspread\n",
        "from oauth2client.client import GoogleCredentials\n",
        "gc = gspread.authorize(GoogleCredentials.get_application_default())\n",
        "\n",
        "med = [np.median(img[:,:,0]), np.median(img[:,:,1]), np.median(img[:,:,2])] #Calcular el promedio de los píxeles\n",
        "print(\"Media\", med) #Imprimimos el valor que tiene la media.\n",
        "\n",
        "\n",
        "correccionColor = colour.colour_correction(med, xyz, rgb, 'Finlayson 2015')\n",
        "listaCorreccion = list(correccionColor)#Casteamos los datos obtenidos de la correción\n",
        "\n",
        "print(\"Correccion\", listaCorreccion)#Imprimimos la lista que contiene los datos corregidos.\n",
        "worksheet= gc.open('Lab2_a').sheet1 #apertura de hoja\n",
        "cell_list= worksheet.range('A2:C2') #seleccion de rango\n",
        "cell_list2= worksheet.range('D2:F2')\n",
        "cell_list3= worksheet.range('H2:H2')\n",
        "\n",
        "i=0\n",
        "j=0\n",
        "\n",
        "#Recorremos la lista para los promedios\n",
        "for cell in cell_list: #for para llenar con los datos de la media\n",
        "  cell.value = med[i]\n",
        "  print(med[i])\n",
        "  i = i + 1\n",
        "worksheet.update_cells(cell_list) #Actualizamos la operación\n",
        "\n",
        "#Forzamos a hacer los valores obtenidos de la listaCorreción flotantes y ademas de redondearlos con la función round.\n",
        "listaCorrecion = list(correccionColor)\n",
        "listaCorreccion1 = []\n",
        "for naux in range(0,3):\n",
        "  listaCorreccion1.append(float(round(listaCorreccion[naux],4)))\n",
        "print(listaCorreccion1)\n",
        "\n",
        "#Recorremos la lista para la correción del color\n",
        "for cell in cell_list2 : #for para llenar con los datos de la correción de colores\n",
        "  cell.value = float(listaCorreccion1[j])\n",
        "  print(float(listaCorreccion1[j]))\n",
        "  j = j + 1\n",
        "worksheet.update_cells(cell_list2)#Actualizamos la operación\n",
        "\n",
        "#Metemos la fecha.\n",
        "for cell in cell_list3: #for para llenar con los datos de la fecha\n",
        "  cell.value = time.strftime(\"%d/%m/%y\")\n",
        "worksheet.update_cells(cell_list3)#Actualizamos la operación"
      ],
      "execution_count": null,
      "outputs": []
    },
    {
      "cell_type": "markdown",
      "metadata": {
        "id": "anG4_iz4f8hk"
      },
      "source": [
        "# Evaluación\n",
        "\n",
        "En las pruebas llegamos a tener los siguientes resultados.\n",
        "Se tomo la siguiente captura a la imágen\n",
        "![texto alternativo](https://drive.google.com/uc?id=1ILRIgf54hyGjIc0u-3KqlBl4MfcdMHww)\n",
        "\n",
        "De la cúal el recuadro a analizar, fue el siguiente\n",
        "\n",
        "![texto alternativo](https://drive.google.com/uc?id=1xc3c0Gg25ZAKuWCMGyojnH42Ftbz_jpj)\n",
        "\n",
        "En el analisis logramos obtener los siguientes resultados. Como datos:\n",
        "\n",
        "![texto alternativo](https://drive.google.com/uc?id=1IgkRFS3q08e6CvM1OfKFiJz-lcw1P6Yh)\n",
        "\n",
        "Donde los tres primeros datos, son los datos de la media de color en RGB y los siguientes tres son los datos con la corrección de color.\n",
        "Los cuales son registrados en una tabla dentro de un documento de Google Sheets, donde además se registra la fecha de análisis.\n",
        "\n",
        "![texto alternativo](https://drive.google.com/uc?id=1V6kb9MjSKuuhfmTy-mQWTK8Hby8YCbAO)"
      ]
    },
    {
      "cell_type": "markdown",
      "metadata": {
        "id": "WrPOjWMxgZhE"
      },
      "source": [
        "# Conclusiones\n",
        "\n",
        "Como pudimos valorar, el analizar un aspecto tan sencillo como una imagen tomada por un dispositivo, es algo que la tecnología actual nos permite hacer desde la accesibilidad de nuestros hogares. Por consiguiente la pregunta sería, ¿de que sirve todo esto? bueno, el analizar una imágen nos sirve de mucho en la actualidad, porque como se ha visto analizar un color nos brinda mucha información, por ello el colorimetro es una herramienta muy útil en la quimica por ejemplo. De igual forma corregir el color de una simple imágen nos brinda aun más información, la cual puede ser ocupada para analizar comportamientos y predecir futuros cambios. \n"
      ]
    },
    {
      "cell_type": "markdown",
      "metadata": {
        "id": "c_XMk7CUg7-t"
      },
      "source": [
        "# Referencias\n",
        "\n",
        "https://es.wikipedia.org/wiki/Color%C3%ADmetro\n",
        "\n",
        "http://www.metas.com.mx/guiametas/La-Guia-MetAs-09-07-Medicion-de-color.pdf\n",
        "\n"
      ]
    }
  ]
}